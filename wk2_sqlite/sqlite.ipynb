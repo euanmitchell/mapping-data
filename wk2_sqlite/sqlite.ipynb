{
 "cells": [
  {
   "cell_type": "code",
   "execution_count": 1,
   "metadata": {},
   "outputs": [],
   "source": [
    "import sqlite3"
   ]
  },
  {
   "cell_type": "markdown",
   "metadata": {},
   "source": [
    "Create a new SQLite database file"
   ]
  },
  {
   "cell_type": "code",
   "execution_count": 2,
   "metadata": {},
   "outputs": [],
   "source": [
    "conn = sqlite3.connect('sample.db')"
   ]
  },
  {
   "cell_type": "markdown",
   "metadata": {},
   "source": [
    "Define a table creation statement, create a cursor, and execute the statement, commiting it afterwards!"
   ]
  },
  {
   "cell_type": "code",
   "execution_count": 3,
   "metadata": {},
   "outputs": [],
   "source": [
    "create = 'CREATE TABLE otters (id integer primary key, name TEXT, surname TEXT, role TEXT)'"
   ]
  },
  {
   "cell_type": "code",
   "execution_count": 4,
   "metadata": {},
   "outputs": [],
   "source": [
    "cursor = conn.cursor()"
   ]
  },
  {
   "cell_type": "code",
   "execution_count": 5,
   "metadata": {},
   "outputs": [],
   "source": [
    "cursor.execute(create)\n",
    "conn.commit()"
   ]
  },
  {
   "cell_type": "markdown",
   "metadata": {},
   "source": [
    "Add some data to our table"
   ]
  },
  {
   "cell_type": "code",
   "execution_count": 6,
   "metadata": {},
   "outputs": [],
   "source": [
    "otters = [\n",
    "    ['Iain', 'McNicol', 'Pod Lead'],\n",
    "    ['Euan', 'Mitchell', 'Data Scientist'],\n",
    "    ['David', 'McLeish', 'Data Scientist'],\n",
    "    ['Anna', 'Fumagalli', 'Data Scientist'],\n",
    "    ['Lucy', 'Parker', 'Data Analyst'],\n",
    "    ['Ben', 'Laverick', 'Ecologist']\n",
    "]"
   ]
  },
  {
   "cell_type": "code",
   "execution_count": 7,
   "metadata": {},
   "outputs": [],
   "source": [
    "insert_query = 'INSERT INTO otters(name, surname, role) VALUES(?, ?, ?)'"
   ]
  },
  {
   "cell_type": "code",
   "execution_count": 8,
   "metadata": {},
   "outputs": [],
   "source": [
    "for otter in otters:\n",
    "    cursor.execute(insert_query, otter)\n",
    "conn.commit()"
   ]
  },
  {
   "cell_type": "markdown",
   "metadata": {},
   "source": [
    "Now we can query our database"
   ]
  },
  {
   "cell_type": "code",
   "execution_count": 9,
   "metadata": {},
   "outputs": [],
   "source": [
    "select_all = 'SELECT * FROM otters'"
   ]
  },
  {
   "cell_type": "code",
   "execution_count": 10,
   "metadata": {},
   "outputs": [],
   "source": [
    "select_ds = 'SELECT * FROM otters WHERE role = \"Data Scientist\"'"
   ]
  },
  {
   "cell_type": "code",
   "execution_count": 11,
   "metadata": {},
   "outputs": [
    {
     "name": "stdout",
     "output_type": "stream",
     "text": [
      "(1, 'Iain', 'McNicol', 'Pod Lead')\n",
      "(2, 'Euan', 'Mitchell', 'Data Scientist')\n",
      "(3, 'David', 'McLeish', 'Data Scientist')\n",
      "(4, 'Anna', 'Fumagalli', 'Data Scientist')\n",
      "(5, 'Lucy', 'Parker', 'Data Analyst')\n",
      "(6, 'Ben', 'Laverick', 'Ecologist')\n"
     ]
    }
   ],
   "source": [
    "for i in cursor.execute(select_all):\n",
    "    print(i)"
   ]
  },
  {
   "cell_type": "code",
   "execution_count": 12,
   "metadata": {},
   "outputs": [
    {
     "name": "stdout",
     "output_type": "stream",
     "text": [
      "(2, 'Euan', 'Mitchell', 'Data Scientist')\n",
      "(3, 'David', 'McLeish', 'Data Scientist')\n",
      "(4, 'Anna', 'Fumagalli', 'Data Scientist')\n"
     ]
    }
   ],
   "source": [
    "for i in cursor.execute(select_ds):\n",
    "    print(i)"
   ]
  },
  {
   "cell_type": "code",
   "execution_count": null,
   "metadata": {},
   "outputs": [],
   "source": []
  }
 ],
 "metadata": {
  "kernelspec": {
   "display_name": "Python 3",
   "language": "python",
   "name": "python3"
  },
  "language_info": {
   "codemirror_mode": {
    "name": "ipython",
    "version": 3
   },
   "file_extension": ".py",
   "mimetype": "text/x-python",
   "name": "python",
   "nbconvert_exporter": "python",
   "pygments_lexer": "ipython3",
   "version": "3.10.13"
  }
 },
 "nbformat": 4,
 "nbformat_minor": 2
}
