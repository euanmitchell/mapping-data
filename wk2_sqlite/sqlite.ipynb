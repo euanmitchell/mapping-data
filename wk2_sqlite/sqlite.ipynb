{
 "cells": [
  {
   "cell_type": "code",
   "execution_count": 1,
   "metadata": {},
   "outputs": [],
   "source": [
    "import sqlite3"
   ]
  },
  {
   "cell_type": "markdown",
   "metadata": {},
   "source": [
    "Create a new SQLite database file"
   ]
  },
  {
   "cell_type": "code",
   "execution_count": 2,
   "metadata": {},
   "outputs": [],
   "source": [
    "conn = sqlite3.connect('sample.db')"
   ]
  },
  {
   "cell_type": "markdown",
   "metadata": {},
   "source": [
    "Define a table creation statement, create a cursor, and execute the statement, commiting it afterwards!"
   ]
  },
  {
   "cell_type": "code",
   "execution_count": null,
   "metadata": {},
   "outputs": [],
   "source": [
    "create = 'CREATE TABLE otters (id integer primary key, name TEXT, surname TEXT, role TEXT)'"
   ]
  },
  {
   "cell_type": "code",
   "execution_count": 3,
   "metadata": {},
   "outputs": [],
   "source": [
    "cursor = conn.cursor()"
   ]
  },
  {
   "cell_type": "code",
   "execution_count": null,
   "metadata": {},
   "outputs": [],
   "source": [
    "cursor.execute(create)\n",
    "conn.commit()"
   ]
  },
  {
   "cell_type": "markdown",
   "metadata": {},
   "source": [
    "Add some data to our table"
   ]
  },
  {
   "cell_type": "code",
   "execution_count": null,
   "metadata": {},
   "outputs": [],
   "source": [
    "otters = [\n",
    "    ['Iain', 'McNicol', 'Pod Lead'],\n",
    "    ['Euan', 'Mitchell', 'Data Scientist'],\n",
    "    ['David', 'McLeish', 'Data Scientist'],\n",
    "    ['Anna', 'Fumagalli', 'Data Scientist'],\n",
    "    ['Lucy', 'Parker', 'Data Analyst'],\n",
    "    ['Ben', 'Laverick', 'Ecologist']\n",
    "]"
   ]
  },
  {
   "cell_type": "code",
   "execution_count": null,
   "metadata": {},
   "outputs": [],
   "source": [
    "insert_query = 'INSERT INTO otters(name, surname, role) VALUES(?, ?, ?)'"
   ]
  },
  {
   "cell_type": "code",
   "execution_count": null,
   "metadata": {},
   "outputs": [],
   "source": [
    "for otter in otters:\n",
    "    cursor.execute(insert_query, otter)\n",
    "conn.commit()"
   ]
  },
  {
   "cell_type": "markdown",
   "metadata": {},
   "source": [
    "Now we can query our database"
   ]
  },
  {
   "cell_type": "code",
   "execution_count": 4,
   "metadata": {},
   "outputs": [],
   "source": [
    "select_all = 'SELECT * FROM otters'"
   ]
  },
  {
   "cell_type": "code",
   "execution_count": 10,
   "metadata": {},
   "outputs": [],
   "source": [
    "select_ds = 'SELECT * FROM otters WHERE role = \"Data Scientist\"'"
   ]
  },
  {
   "cell_type": "code",
   "execution_count": 15,
   "metadata": {},
   "outputs": [],
   "source": [
    "select_ds_da = 'SELECT name, surname FROM otters WHERE role IN (\"Data Scientist\", \"Data Analyst\")'"
   ]
  },
  {
   "cell_type": "code",
   "execution_count": 6,
   "metadata": {},
   "outputs": [],
   "source": [
    "select_name = 'SELECT name FROM otters'"
   ]
  },
  {
   "cell_type": "code",
   "execution_count": 5,
   "metadata": {},
   "outputs": [
    {
     "name": "stdout",
     "output_type": "stream",
     "text": [
      "(1, 'Iain', 'McNicol', 'Pod Lead')\n",
      "(2, 'Euan', 'Mitchell', 'Data Scientist')\n",
      "(3, 'David', 'McLeish', 'Data Scientist')\n",
      "(4, 'Anna', 'Fumagalli', 'Data Scientist')\n",
      "(5, 'Lucy', 'Parker', 'Data Analyst')\n",
      "(6, 'Ben', 'Laverick', 'Ecologist')\n"
     ]
    }
   ],
   "source": [
    "for i in cursor.execute(select_all):\n",
    "    print(i)"
   ]
  },
  {
   "cell_type": "code",
   "execution_count": 11,
   "metadata": {},
   "outputs": [
    {
     "name": "stdout",
     "output_type": "stream",
     "text": [
      "(2, 'Euan', 'Mitchell', 'Data Scientist')\n",
      "(3, 'David', 'McLeish', 'Data Scientist')\n",
      "(4, 'Anna', 'Fumagalli', 'Data Scientist')\n"
     ]
    }
   ],
   "source": [
    "for i in cursor.execute(select_ds):\n",
    "    print(i)"
   ]
  },
  {
   "cell_type": "code",
   "execution_count": 16,
   "metadata": {},
   "outputs": [
    {
     "name": "stdout",
     "output_type": "stream",
     "text": [
      "('Euan', 'Mitchell')\n",
      "('David', 'McLeish')\n",
      "('Anna', 'Fumagalli')\n",
      "('Lucy', 'Parker')\n"
     ]
    }
   ],
   "source": [
    "for i in cursor.execute(select_ds_da):\n",
    "    print(i)"
   ]
  },
  {
   "cell_type": "code",
   "execution_count": 26,
   "metadata": {},
   "outputs": [
    {
     "name": "stdout",
     "output_type": "stream",
     "text": [
      "<class 'tuple'>\n",
      "<class 'tuple'>\n",
      "<class 'tuple'>\n",
      "<class 'tuple'>\n",
      "<class 'tuple'>\n",
      "<class 'tuple'>\n"
     ]
    }
   ],
   "source": [
    "for i in cursor.execute(select_name):\n",
    "    print(type(i))"
   ]
  },
  {
   "cell_type": "markdown",
   "metadata": {},
   "source": [
    "Adding query modifiers"
   ]
  },
  {
   "cell_type": "code",
   "execution_count": 19,
   "metadata": {},
   "outputs": [
    {
     "name": "stdout",
     "output_type": "stream",
     "text": [
      "(5, 'Lucy', 'Parker', 'Data Analyst')\n",
      "(2, 'Euan', 'Mitchell', 'Data Scientist')\n",
      "(1, 'Iain', 'McNicol', 'Pod Lead')\n",
      "(3, 'David', 'McLeish', 'Data Scientist')\n",
      "(6, 'Ben', 'Laverick', 'Ecologist')\n",
      "(4, 'Anna', 'Fumagalli', 'Data Scientist')\n"
     ]
    }
   ],
   "source": [
    "# Sort the results\n",
    "\n",
    "sorted_query = 'SELECT * FROM otters ORDER BY surname DESC'\n",
    "\n",
    "for i in cursor.execute(sorted_query):\n",
    "    print(i)"
   ]
  },
  {
   "cell_type": "code",
   "execution_count": 20,
   "metadata": {},
   "outputs": [
    {
     "name": "stdout",
     "output_type": "stream",
     "text": [
      "(1, 'Iain', 'McNicol', 'Pod Lead')\n",
      "(2, 'Euan', 'Mitchell', 'Data Scientist')\n",
      "(3, 'David', 'McLeish', 'Data Scientist')\n",
      "(4, 'Anna', 'Fumagalli', 'Data Scientist')\n"
     ]
    }
   ],
   "source": [
    "# Limit output\n",
    "\n",
    "limited_query = 'SELECT * FROM otters LIMIT 4'\n",
    "\n",
    "for i in cursor.execute(limited_query):\n",
    "    print(i)"
   ]
  },
  {
   "cell_type": "code",
   "execution_count": 25,
   "metadata": {},
   "outputs": [
    {
     "name": "stdout",
     "output_type": "stream",
     "text": [
      "('Pod Lead',)\n",
      "('Data Scientist',)\n",
      "('Data Analyst',)\n",
      "('Ecologist',)\n"
     ]
    }
   ],
   "source": [
    "# Distinct results\n",
    "\n",
    "distinct_query = 'SELECT DISTINCT role FROM otters'\n",
    "\n",
    "for i in cursor.execute(distinct_query):\n",
    "    print(i)"
   ]
  },
  {
   "cell_type": "markdown",
   "metadata": {},
   "source": [
    "Searching the results"
   ]
  },
  {
   "cell_type": "code",
   "execution_count": 29,
   "metadata": {},
   "outputs": [
    {
     "name": "stdout",
     "output_type": "stream",
     "text": [
      "(6, 'Ben', 'Laverick', 'Ecologist')\n"
     ]
    }
   ],
   "source": [
    "fuzzy_query = 'SELECT * FROM otters WHERE surname LIKE \"L%\"'\n",
    "\n",
    "for i in cursor.execute(fuzzy_query):\n",
    "    print(i)"
   ]
  },
  {
   "cell_type": "code",
   "execution_count": 30,
   "metadata": {},
   "outputs": [
    {
     "name": "stdout",
     "output_type": "stream",
     "text": [
      "(1, 'Iain', 'McNicol', 'Pod Lead')\n",
      "(2, 'Euan', 'Mitchell', 'Data Scientist')\n",
      "(3, 'David', 'McLeish', 'Data Scientist')\n",
      "(4, 'Anna', 'Fumagalli', 'Data Scientist')\n",
      "(6, 'Ben', 'Laverick', 'Ecologist')\n"
     ]
    }
   ],
   "source": [
    "fuzzy_query2 = 'SELECT * FROM otters WHERE surname LIKE \"%L%\"'\n",
    "\n",
    "for i in cursor.execute(fuzzy_query2):\n",
    "    print(i)"
   ]
  },
  {
   "cell_type": "code",
   "execution_count": 41,
   "metadata": {},
   "outputs": [
    {
     "name": "stdout",
     "output_type": "stream",
     "text": [
      "(3, 'David', 'McLeish', 'Data Scientist')\n",
      "(6, 'Ben', 'Laverick', 'Ecologist')\n"
     ]
    }
   ],
   "source": [
    "# LIKE 'anything + an i + two characters' matches McLeish and Laverick\n",
    "\n",
    "fuzzy_query3 = 'SELECT * FROM otters WHERE surname LIKE \"%i__\"'\n",
    "\n",
    "for i in cursor.execute(fuzzy_query3):\n",
    "    print(i)"
   ]
  },
  {
   "cell_type": "code",
   "execution_count": 40,
   "metadata": {},
   "outputs": [
    {
     "name": "stdout",
     "output_type": "stream",
     "text": [
      "(1, 'Iain', 'McNicol', 'Pod Lead')\n"
     ]
    }
   ],
   "source": [
    "# LIKE 'anything + an i + three characters' matches McNicol only\n",
    "\n",
    "fuzzy_query3b = 'SELECT * FROM otters WHERE surname LIKE \"%i___\"'\n",
    "\n",
    "for i in cursor.execute(fuzzy_query3b):\n",
    "    print(i)"
   ]
  }
 ],
 "metadata": {
  "kernelspec": {
   "display_name": "Python 3",
   "language": "python",
   "name": "python3"
  },
  "language_info": {
   "codemirror_mode": {
    "name": "ipython",
    "version": 3
   },
   "file_extension": ".py",
   "mimetype": "text/x-python",
   "name": "python",
   "nbconvert_exporter": "python",
   "pygments_lexer": "ipython3",
   "version": "3.10.13"
  }
 },
 "nbformat": 4,
 "nbformat_minor": 2
}
