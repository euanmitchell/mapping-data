{
 "cells": [
  {
   "cell_type": "markdown",
   "metadata": {},
   "source": [
    "### Basic web scraping with built-in *streaming parser* `HTMLParser`"
   ]
  },
  {
   "cell_type": "code",
   "execution_count": 9,
   "metadata": {},
   "outputs": [],
   "source": [
    "# Requires creating a parser class from HTMLParser\n",
    "\n",
    "from html.parser import HTMLParser\n",
    "\n",
    "class Parser(HTMLParser):\n",
    "\n",
    "    def __init__(self):\n",
    "        super().__init__()\n",
    "        self.recording = False\n",
    "    \n",
    "    # This is a built-in method\n",
    "    def handle_starttag(self, tag, attrs):\n",
    "        # This is where I would customise the specific HTML tag(s) that I am interested in\n",
    "        if tag == \"title\":\n",
    "            self.recording = True\n",
    "        else:\n",
    "            self.recording = False\n",
    "\n",
    "    # Another built-in method\n",
    "    def handle_data(self, data):\n",
    "        if self.recording:\n",
    "            # This is where I would customise what I want to do with the data that is found in the specific tag(s) I set above\n",
    "            # print(f\"Found the following data for tag: {repr(data)}\")\n",
    "            if data != '\\n':\n",
    "                print(f\"Found the following data for tag: {repr(data)}\")"
   ]
  },
  {
   "cell_type": "code",
   "execution_count": 7,
   "metadata": {},
   "outputs": [],
   "source": [
    "content = \"\"\"\n",
    "<!DOCTYPE html>\n",
    "<html class=\"client-nojs\" lang=\"en\" dir=\"ltr\">\n",
    "<head>\n",
    "<meta charset=\"UTF-8\"/>\n",
    "<title>1992 World Junior Championships in Athletics – Men's high jump - Wikipedia</title>\n",
    "\"\"\""
   ]
  },
  {
   "cell_type": "code",
   "execution_count": 10,
   "metadata": {},
   "outputs": [
    {
     "name": "stdout",
     "output_type": "stream",
     "text": [
      "Found the following data for tag: \"1992 World Junior Championships in Athletics – Men's high jump - Wikipedia\"\n"
     ]
    }
   ],
   "source": [
    "# Example application - content here is just a string of raw HTML (could also be actual HTML somehow?)\n",
    "\n",
    "p = Parser()\n",
    "p.feed(content)"
   ]
  }
 ],
 "metadata": {
  "kernelspec": {
   "display_name": "Python 3",
   "language": "python",
   "name": "python3"
  },
  "language_info": {
   "codemirror_mode": {
    "name": "ipython",
    "version": 3
   },
   "file_extension": ".py",
   "mimetype": "text/x-python",
   "name": "python",
   "nbconvert_exporter": "python",
   "pygments_lexer": "ipython3",
   "version": "3.10.13"
  }
 },
 "nbformat": 4,
 "nbformat_minor": 2
}
